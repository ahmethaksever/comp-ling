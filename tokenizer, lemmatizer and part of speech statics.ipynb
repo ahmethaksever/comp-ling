{
  "cells": [
    {
      "cell_type": "markdown",
      "metadata": {
        "id": "3fe877ab-89c9-4585-9bc6-ab907868ee19"
      },
      "source": [
        "# Assignment 3\n",
        "\n",
        "This is <font color='cyan'>Assignment 3</font> for the LING360 - Computational Methods in Lingustics course and it is worth a total of  <font color='cyan'>**5 points**</font>.\n",
        "The assignment covers the basic knowledge of Python. \n",
        "\n",
        "The topics include:\n",
        "1. For loops\n",
        "1. Regular Expressions\n",
        "1. Control Flow\n",
        "1. Functions\n",
        "\n",
        "\n",
        "There's a total of  <font color='cyan'>**3 main tasks**</font>. For each task, please write your code between the following lines:\n",
        "\n",
        "```\n",
        "## YOUR CODE STARTS\n",
        "\n",
        "\n",
        "\n",
        "## YOUR CODE ENDS\n",
        "```\n",
        "\n",
        "Before working on the assignment, please copy this notebook to your own drive. You can use ```Save a copy in Drive``` under the ```File``` menu on top left.\n",
        "\n",
        "Please, run every cell in your code to make sure that it works properly before submitting it. \n",
        "\n",
        "Once you are ready to submit, download two versions of your code:\n",
        "\n",
        "*   Download .ipynb\n",
        "*   Download .py\n",
        "\n",
        "These are both available under the ```File``` menu on top left. \n",
        "\n",
        "Then, compress your files (zip, rar, or whatever) and upload the compressed file to Moodle.\n",
        "\n",
        "If you have any questions, please contact karahan.sahin@boun.edu.tr\n"
      ],
      "id": "3fe877ab-89c9-4585-9bc6-ab907868ee19"
    },
    {
      "cell_type": "code",
      "execution_count": 1,
      "metadata": {
        "id": "a5e1c750-90b2-4755-a96a-18fc5cc79bf8",
        "colab": {
          "base_uri": "https://localhost:8080/",
          "height": 428,
          "referenced_widgets": [
            "8a3362b48b614744a01281425971980c",
            "5206731b77754afcbb034720fd287ad2",
            "c51688f4f3c5474e8258978e75b523e7",
            "edd0e20cf17742aba1b0cd9fa582d967",
            "c85344442f764f1bb304dd6dbf51b22d",
            "67bf09ad40ab40118e4d3dcb52fe5d8a",
            "4c11e2c633944a0d8f7d34b3df19ac3f",
            "52bab1f3557441e6abc4b1c9240641de",
            "d9ad3716cee34c62aab67f520bf682fe",
            "2adb9caa509f4094b2a6c80d13735f93",
            "9f7e62e176bf4d1e8ed2c4e12f1fc7c7",
            "c5273950734a49d48821859d3f948cfb",
            "707ec2520fd845dda41a1933b37ec399",
            "140ddd1925bd472e96afaacb993cf4d9",
            "7b08ee9000334f599d9c16226a994ec0",
            "cf4b6c39cb2545f4a45cfd399940745d",
            "8ad0c57bbd5e41c58296d0458cfa5b1f",
            "2063a0d4deff4007a35d41a6031e24ba",
            "101214c4bb4643b2a910259d5efa9d04",
            "70d6f99c15994910b5d5e017c472f2b6",
            "926bf85a6a5d4824a4c24289f73beb28",
            "9470dfd772694c198b5cd7887fb6f561",
            "fd749377b0c444ea83b10652d8ba6094",
            "cf52170a2e684996b44ae41c85d553ae",
            "5f050501308f40acba963bb6c623ee77",
            "cffc4234717f494489a27bbdb619ee1d",
            "251fb35e5f254e8ca6f4f8fb71abb97b",
            "db31fda6aa924688a315acad18bffaad",
            "d79558825ead4619b5ac2752188ff2d6",
            "5cac104384084f5bb0c5698e013f548c",
            "ecb4d68d11854e37a60b50d8d84e6ff7",
            "3cd8e09527a14f88b310d583d3a38620",
            "ff31e426859b4a1d9207d3147d07611a"
          ]
        },
        "outputId": "4fc4d03b-c89f-487c-fd4b-77d39169a413"
      },
      "outputs": [
        {
          "output_type": "stream",
          "name": "stdout",
          "text": [
            "\u001b[2K     \u001b[90m━━━━━━━━━━━━━━━━━━━━━━━━━━━━━━━━━━━━━━━\u001b[0m \u001b[32m802.5/802.5 KB\u001b[0m \u001b[31m9.8 MB/s\u001b[0m eta \u001b[36m0:00:00\u001b[0m\n",
            "\u001b[2K     \u001b[90m━━━━━━━━━━━━━━━━━━━━━━━━━━━━━━━━━━━━━━\u001b[0m \u001b[32m240.9/240.9 KB\u001b[0m \u001b[31m14.6 MB/s\u001b[0m eta \u001b[36m0:00:00\u001b[0m\n",
            "\u001b[?25h  Preparing metadata (setup.py) ... \u001b[?25l\u001b[?25hdone\n",
            "  Building wheel for emoji (setup.py) ... \u001b[?25l\u001b[?25hdone\n"
          ]
        },
        {
          "output_type": "stream",
          "name": "stderr",
          "text": [
            "INFO:stanza:Checking for updates to resources.json in case models have been updated.  Note: this behavior can be turned off with download_method=None or download_method=DownloadMethod.REUSE_RESOURCES\n"
          ]
        },
        {
          "output_type": "display_data",
          "data": {
            "text/plain": [
              "Downloading https://raw.githubusercontent.com/stanfordnlp/stanza-resources/main/resources_1.5.0.json:   0%|   …"
            ],
            "application/vnd.jupyter.widget-view+json": {
              "version_major": 2,
              "version_minor": 0,
              "model_id": "8a3362b48b614744a01281425971980c"
            }
          },
          "metadata": {}
        },
        {
          "output_type": "display_data",
          "data": {
            "text/plain": [
              "Downloading https://huggingface.co/stanfordnlp/stanza-tr/resolve/v1.5.0/models/tokenize/imst.pt:   0%|        …"
            ],
            "application/vnd.jupyter.widget-view+json": {
              "version_major": 2,
              "version_minor": 0,
              "model_id": "c5273950734a49d48821859d3f948cfb"
            }
          },
          "metadata": {}
        },
        {
          "output_type": "display_data",
          "data": {
            "text/plain": [
              "Downloading https://huggingface.co/stanfordnlp/stanza-tr/resolve/v1.5.0/models/lemma/imst.pt:   0%|          |…"
            ],
            "application/vnd.jupyter.widget-view+json": {
              "version_major": 2,
              "version_minor": 0,
              "model_id": "fd749377b0c444ea83b10652d8ba6094"
            }
          },
          "metadata": {}
        },
        {
          "output_type": "stream",
          "name": "stderr",
          "text": [
            "INFO:stanza:Loading these models for language: tr (Turkish):\n",
            "=======================\n",
            "| Processor | Package |\n",
            "-----------------------\n",
            "| tokenize  | imst    |\n",
            "| lemma     | imst    |\n",
            "=======================\n",
            "\n",
            "INFO:stanza:Using device: cpu\n",
            "INFO:stanza:Loading: tokenize\n",
            "INFO:stanza:Loading: lemma\n",
            "INFO:stanza:Done loading processors!\n"
          ]
        }
      ],
      "source": [
        "## DO NOT EDIT THE CODE BELOW\n",
        "\n",
        "# RUN THIS LINE FIRST !!\n",
        "import re\n",
        "import requests\n",
        "!pip install stanza --quiet\n",
        "import stanza\n",
        "nlp = stanza.Pipeline(lang='tr', \n",
        "                      processors='tokenize,lemma', \n",
        "                      lemma_pretagged=True, \n",
        "                      tokenize_pretokenized=True, \n",
        "                      use_gpu=False)\n",
        "\n",
        "def tokenize(sentence): return [token[\"text\"] for token in nlp(sentence).sentences[0].to_dict()]\n",
        "def lemmatize(sentence): return [token[\"lemma\"] for token in nlp(sentence).sentences[0].to_dict()]\n",
        "\n",
        "## DO NOT EDIT THE CODE ABOVE"
      ],
      "id": "a5e1c750-90b2-4755-a96a-18fc5cc79bf8"
    },
    {
      "cell_type": "code",
      "execution_count": 2,
      "metadata": {
        "id": "f4efeeee-490b-41da-a389-8ca755b1bc48",
        "colab": {
          "base_uri": "https://localhost:8080/"
        },
        "outputId": "0681fe7f-0a22-4ac2-b466-1a9e91bd3565"
      },
      "outputs": [
        {
          "output_type": "stream",
          "name": "stdout",
          "text": [
            "Lemma list is extracted\n"
          ]
        }
      ],
      "source": [
        "# The code below gets a Turkish lexicon from the Zemberek project. This lexicon\n",
        "# will be used as a lemma list. \n",
        "# To better understand what the code is doing, you can go to the link below to \n",
        "# see what the file looks like.\n",
        "\n",
        "## DO NOT EDIT THE CODE BELOW\n",
        "\n",
        "# RUN THIS LINE FIRST !!\n",
        "file = requests.get(\"https://raw.githubusercontent.com/Loodos/zemberek-python/master/zemberek/resources/lexicon.csv\")\n",
        "\n",
        "# You only need to run this code as well\n",
        "lemma_list = sorted({line.split(\"\\t\")[2] for line in file.text.split(\"\\n\")[:-1]\n",
        "                        if not (line.split(\"\\t\")[0].endswith(\"Prop\"))\n",
        "                        and len(line.split(\"\\t\")[2]) > 2 })\n",
        "\n",
        "print(\"Lemma list is extracted\")\n",
        "\n",
        "## DO NOT EDIT THE CODE ABOVE"
      ],
      "id": "f4efeeee-490b-41da-a389-8ca755b1bc48"
    },
    {
      "cell_type": "code",
      "execution_count": 3,
      "metadata": {
        "id": "ea516fa3-f6a6-4fce-aac3-6e904544cd63"
      },
      "outputs": [],
      "source": [
        "# The code below creates a dictionary where the keys are lemmas and their values\n",
        "# are POS (parts of speech) tags (e.g. Adj, Noun, Verb, etc.). \n",
        "\n",
        "## DO NOT EDIT THE CODE BELOW\n",
        "\n",
        "# RUN THIS LINE FIRST !!\n",
        "word_to_pos_dictionary = {line.split(\"\\t\")[2]: line.split(\"\\t\")[3]  \n",
        "                              for line in file.text.split(\"\\n\")[:-1]}\n",
        "\n",
        "## DO NOT EDIT THE CODE ABOVE"
      ],
      "id": "ea516fa3-f6a6-4fce-aac3-6e904544cd63"
    },
    {
      "cell_type": "markdown",
      "metadata": {
        "id": "3d80e087-eda9-407b-86ae-f707a59f4df8"
      },
      "source": [
        "## <font color='#FFBD33'>**Q1:** Tokenizer</font> `1.5 points`\n",
        "\n",
        "Implement a `tokenize()` function which takes string argument called `sentence` and returns the tokens of a given sentence. \n",
        "\n",
        "<font color='#FFBD33'>**Instructions:**</font>\n",
        "\n",
        "1. First, remove all punctuation using `re.sub()`.\n",
        "2. Then, split the string on whitespace using the function we built in LAB 3.\n",
        "3. Create an empty list and assign it to a variable named `tokens`.\n",
        "4. Using a `for loop`, append only the strings that consist of alphabetic characters to the `tokens` list.\n",
        "5. Finally return the `tokens` list.\n",
        "\n",
        "<font color='#FFBD33'>**Notes:**</font>\n",
        "1. Watch out! Some punctuations are escape characters, for those cases, add the `\\` character before the punctuation character.\n",
        "1. To find whether a character is composed of only alphabetic, use the `\"your_string\".isalpha()` method.\n"
      ],
      "id": "3d80e087-eda9-407b-86ae-f707a59f4df8"
    },
    {
      "cell_type": "code",
      "execution_count": 7,
      "metadata": {
        "id": "3c2f8879-2c1d-4780-801c-61e7e0e440bc"
      },
      "outputs": [],
      "source": [
        "## YOUR CODE STARTS\n",
        "def tokenize(sentence):\n",
        "  removed_sentence = re.sub(\"[\\.|\\!|\\?|\\,|\\:|\\;\\\"]\",\"\",sentence)\n",
        "  splitted_sentence = removed_sentence.split()\n",
        "  tokens = []\n",
        "  for word in splitted_sentence:\n",
        "    if word.isalpha() == True:\n",
        "      tokens.append(word)\n",
        "  return tokens\n",
        "\n",
        "## YOUR CODE ENDS"
      ],
      "id": "3c2f8879-2c1d-4780-801c-61e7e0e440bc"
    },
    {
      "cell_type": "markdown",
      "metadata": {
        "id": "1b2f6c5e-91af-480a-956d-0ca95fceffee"
      },
      "source": [
        "## <font color='#FFBD33'>**Q2:** Lemmatizer</font> `2 points`\n",
        "Write a function called `lemmatize()` which takes a string argument named `sentence`. You need to first tokenize the sentence and then lemmatize. \n",
        "\n",
        "If you completed the previous task successfully, then use your `tokenize()` function to tokenize the sentence. \n",
        "\n",
        "If you could not successfully implement a `tokenize()` function, then use the `tokenize()` function we provide below. \n",
        "\n",
        "\n",
        "If you were not able to write your `tokenize()` function properly, you can use the pre-defined function in first cell. Just rerun the first cell in this notebook.\n",
        "\n",
        "<font color='#FFBD33'>**Instructions:**</font>\n",
        "1. First, make sure that you run the cell above where the  `lemma_list` is defined.\n",
        "2. After you define your function, create an empty list and assign it to a variable named `lemmas`.\n",
        "3. Create a list called `tokens` which holds the tokens from the tokenized sentence via `tokenize()` function.\n",
        "4. Using a for loop iterating `tokens` list, check if the token starts with any lemma found in `lemma_list` via `re.findall()`. Your `regex` should be in format:\n",
        "    ```\n",
        "    \"^(araba|al|ak|.....)\"\n",
        "    ```\n",
        "5. If you find any lemmas, add the lemma to the `lemmas` list.\n",
        "6. Finally return the `lemmas` list.\n",
        "\n",
        "\n",
        "<font color='#FFBD33'>**Notes:**</font>\n",
        "1. Don't worry! Some lemmas can be missing! We have provided some test sentences below but check the regex results before appending to the `lemmas` list.\n",
        "1. To write a regex, you need to create string which finds a string start with any of the lemmas. Since you cannot mannualy add each lemma, use `\"\".join(your_list)` method to automatically concatenate all lemmas as the example below.\n",
        "\n",
        "    ```python\n",
        "    \",\".join([\"a\",\"b\",\"c\"])\n",
        "    # Output: \"a,b,c\"\n",
        "\n",
        "    \":)\".join([\"a\",\"b\",\"c\"])\n",
        "    # Output: \"a:)b:)c\"\n",
        "    ```"
      ],
      "id": "1b2f6c5e-91af-480a-956d-0ca95fceffee"
    },
    {
      "cell_type": "code",
      "execution_count": 8,
      "metadata": {
        "id": "95464f36-a6bc-4a3a-9e59-f1a8d7354bed"
      },
      "outputs": [],
      "source": [
        "## YOUR CODE STARTS\n",
        "def lemmatize(sentence):\n",
        "  lemmas = []\n",
        "  tokens = tokenize(sentence)\n",
        "  joined_lemma_list = \"|\".join(lemma_list)\n",
        "  for token in tokens:\n",
        "    \n",
        "    matches = re.findall(f\"^({joined_lemma_list})\",token)\n",
        "    if len(matches) > 0:\n",
        "      lemmas.append(matches[0])\n",
        "  return lemmas\n",
        "\n",
        "## YOUR CODE ENDS"
      ],
      "id": "95464f36-a6bc-4a3a-9e59-f1a8d7354bed"
    },
    {
      "cell_type": "code",
      "execution_count": 9,
      "metadata": {
        "id": "a2f20ae2-6f45-459e-bb4a-d2f15ce039a6",
        "colab": {
          "base_uri": "https://localhost:8080/"
        },
        "outputId": "be8e6453-d72b-4ce1-de28-11befbd98aac"
      },
      "outputs": [
        {
          "output_type": "execute_result",
          "data": {
            "text/plain": [
              "True"
            ]
          },
          "metadata": {},
          "execution_count": 9
        }
      ],
      "source": [
        "lemmatize(\"ben geldim ama sen gelmedin\") == ['ben', 'gel', 'ama', 'sen', 'gel']"
      ],
      "id": "a2f20ae2-6f45-459e-bb4a-d2f15ce039a6"
    },
    {
      "cell_type": "code",
      "execution_count": 10,
      "metadata": {
        "id": "169ed1ed-c614-493d-9164-6513eeb03388",
        "colab": {
          "base_uri": "https://localhost:8080/"
        },
        "outputId": "7590a282-5ab4-4382-ecd4-2233926c1f50"
      },
      "outputs": [
        {
          "output_type": "execute_result",
          "data": {
            "text/plain": [
              "True"
            ]
          },
          "metadata": {},
          "execution_count": 10
        }
      ],
      "source": [
        "lemmatize(\"bizler hiç bilmezdik ama neler olmuştu\") == ['biz', 'hiç', 'bil', 'ama', 'nel', 'olm']"
      ],
      "id": "169ed1ed-c614-493d-9164-6513eeb03388"
    },
    {
      "cell_type": "markdown",
      "metadata": {
        "id": "cf8a2888-eae6-48f3-90f5-8a348995d6df"
      },
      "source": [
        "## <font color='#FFBD33'>**Q3:** Part-of-Speech Statistics</font> `1.5 points`\n",
        "\n",
        "Calculate total count of part-of-speech of tokens in `sentences` list, via using `word_to_pos_dictionary` dictionary. For each sentence, first tokenize, then lemmatize using the corresponding functions to find the part-of-speech of the word. After that increase the number of the part-of-speech in the dictionary `YOUR_POS`. If you were not able to write your `tokenize()` and `lemmatize()` functions, you can use the pre-defined function in the first cell. \n",
        "\n",
        "<font color='#FFBD33'>**Instructions:**</font>\n",
        "1. Write a for loop which iterates over each sentence in `sentences`.\n",
        "2. First lemmatize the string with `lemmatize()` function using either your custom function or lemmatize function we defined.\n",
        "3. Then increment the number count of part-of-speech tag, aka `POS` tag, for each of the extracted lemmas by getting the `POS` tag of lemma from `word_to_pos_dictionary`."
      ],
      "id": "cf8a2888-eae6-48f3-90f5-8a348995d6df"
    },
    {
      "cell_type": "code",
      "execution_count": null,
      "metadata": {
        "id": "53ada85d-4e62-47c6-a4ff-3211743ef3c5"
      },
      "outputs": [],
      "source": [
        "print(\"Part-of-speech of word 'sev' is:\", word_to_pos_dictionary[\"sev\"])\n",
        "print(\"Part-of-speech of word 'bilgi' is:\", word_to_pos_dictionary[\"bilgi\"])"
      ],
      "id": "53ada85d-4e62-47c6-a4ff-3211743ef3c5"
    },
    {
      "cell_type": "code",
      "execution_count": 13,
      "metadata": {
        "id": "2d70e787-7ccb-4e47-b8a5-9be85fb9359d"
      },
      "outputs": [],
      "source": [
        "sentences = [\n",
        " 'ben geldim',\n",
        " 'gördüm',\n",
        " 'ama o daha gelmemişti.',\n",
        " 'sen biliyorsun...',\n",
        " 'onlar anlamazlar !',\n",
        " 'nasılsınız?',\n",
        " 'iyiyiz\"',\n",
        "]"
      ],
      "id": "2d70e787-7ccb-4e47-b8a5-9be85fb9359d"
    },
    {
      "cell_type": "code",
      "execution_count": 18,
      "metadata": {
        "id": "a5cd5332-9dce-40fa-a14f-d7371ee153b0",
        "colab": {
          "base_uri": "https://localhost:8080/"
        },
        "outputId": "c450a69f-f3d4-4cdf-c7fc-c136e51f5f4f"
      },
      "outputs": [
        {
          "output_type": "stream",
          "name": "stdout",
          "text": [
            "ben\n",
            "gel\n",
            "gör\n",
            "ama\n",
            "dah\n",
            "gel\n",
            "sen\n",
            "bil\n",
            "onl\n",
            "anl\n",
            "nas\n",
            "iyi\n",
            "{'Adj': 0, 'Adv': 0, 'Conj': 1, 'Det': 0, 'Dup': 0, 'Interj': 1, 'Noun': 3, 'Num': 0, 'Postp': 0, 'Pron': 2, 'Punc': 0, 'Ques': 0, 'Verb': 5}\n"
          ]
        }
      ],
      "source": [
        "YOUR_POS_COUNT = {\n",
        "    'Adj': 0,\n",
        "    'Adv': 0,\n",
        "    'Conj': 0,\n",
        "    'Det': 0,\n",
        "    'Dup': 0,\n",
        "    'Interj': 0,\n",
        "    'Noun': 0,\n",
        "    'Num': 0,\n",
        "    'Postp': 0,\n",
        "    'Pron': 0,\n",
        "    'Punc': 0,\n",
        "    'Ques': 0,\n",
        "    'Verb': 0\n",
        "}\n",
        "\n",
        "# YOUR CODE STARTS\n",
        "# 'anl' ve 'onl' lemmaları word_to_pos_dictionary'da olmadığı için manuel olarak ekliyorum\n",
        "word_to_pos_dictionary['onl'] = 'Pron'\n",
        "word_to_pos_dictionary['anl'] = 'Verb'\n",
        "\n",
        "for sentence in sentences:\n",
        "   lemmatized_sentence = lemmatize(sentence)\n",
        "   for word in lemmatized_sentence:\n",
        "    try:\n",
        "      print(word)\n",
        "      YOUR_POS_COUNT[word_to_pos_dictionary[word]] += 1\n",
        "    except KeyError:\n",
        "      continue\n",
        "\n",
        "print(YOUR_POS_COUNT)\n",
        "# YOUR CODE ENDS"
      ],
      "id": "a5cd5332-9dce-40fa-a14f-d7371ee153b0"
    }
  ],
  "metadata": {
    "colab": {
      "provenance": []
    },
    "kernelspec": {
      "display_name": "Python 3 (ipykernel)",
      "language": "python",
      "name": "python3"
    },
    "language_info": {
      "codemirror_mode": {
        "name": "ipython",
        "version": 3
      },
      "file_extension": ".py",
      "mimetype": "text/x-python",
      "name": "python",
      "nbconvert_exporter": "python",
      "pygments_lexer": "ipython3",
      "version": "3.9.13"
    },
    "widgets": {
      "application/vnd.jupyter.widget-state+json": {
        "8a3362b48b614744a01281425971980c": {
          "model_module": "@jupyter-widgets/controls",
          "model_name": "HBoxModel",
          "model_module_version": "1.5.0",
          "state": {
            "_dom_classes": [],
            "_model_module": "@jupyter-widgets/controls",
            "_model_module_version": "1.5.0",
            "_model_name": "HBoxModel",
            "_view_count": null,
            "_view_module": "@jupyter-widgets/controls",
            "_view_module_version": "1.5.0",
            "_view_name": "HBoxView",
            "box_style": "",
            "children": [
              "IPY_MODEL_5206731b77754afcbb034720fd287ad2",
              "IPY_MODEL_c51688f4f3c5474e8258978e75b523e7",
              "IPY_MODEL_edd0e20cf17742aba1b0cd9fa582d967"
            ],
            "layout": "IPY_MODEL_c85344442f764f1bb304dd6dbf51b22d"
          }
        },
        "5206731b77754afcbb034720fd287ad2": {
          "model_module": "@jupyter-widgets/controls",
          "model_name": "HTMLModel",
          "model_module_version": "1.5.0",
          "state": {
            "_dom_classes": [],
            "_model_module": "@jupyter-widgets/controls",
            "_model_module_version": "1.5.0",
            "_model_name": "HTMLModel",
            "_view_count": null,
            "_view_module": "@jupyter-widgets/controls",
            "_view_module_version": "1.5.0",
            "_view_name": "HTMLView",
            "description": "",
            "description_tooltip": null,
            "layout": "IPY_MODEL_67bf09ad40ab40118e4d3dcb52fe5d8a",
            "placeholder": "​",
            "style": "IPY_MODEL_4c11e2c633944a0d8f7d34b3df19ac3f",
            "value": "Downloading https://raw.githubusercontent.com/stanfordnlp/stanza-resources/main/resources_1.5.0.json: "
          }
        },
        "c51688f4f3c5474e8258978e75b523e7": {
          "model_module": "@jupyter-widgets/controls",
          "model_name": "FloatProgressModel",
          "model_module_version": "1.5.0",
          "state": {
            "_dom_classes": [],
            "_model_module": "@jupyter-widgets/controls",
            "_model_module_version": "1.5.0",
            "_model_name": "FloatProgressModel",
            "_view_count": null,
            "_view_module": "@jupyter-widgets/controls",
            "_view_module_version": "1.5.0",
            "_view_name": "ProgressView",
            "bar_style": "success",
            "description": "",
            "description_tooltip": null,
            "layout": "IPY_MODEL_52bab1f3557441e6abc4b1c9240641de",
            "max": 29911,
            "min": 0,
            "orientation": "horizontal",
            "style": "IPY_MODEL_d9ad3716cee34c62aab67f520bf682fe",
            "value": 29911
          }
        },
        "edd0e20cf17742aba1b0cd9fa582d967": {
          "model_module": "@jupyter-widgets/controls",
          "model_name": "HTMLModel",
          "model_module_version": "1.5.0",
          "state": {
            "_dom_classes": [],
            "_model_module": "@jupyter-widgets/controls",
            "_model_module_version": "1.5.0",
            "_model_name": "HTMLModel",
            "_view_count": null,
            "_view_module": "@jupyter-widgets/controls",
            "_view_module_version": "1.5.0",
            "_view_name": "HTMLView",
            "description": "",
            "description_tooltip": null,
            "layout": "IPY_MODEL_2adb9caa509f4094b2a6c80d13735f93",
            "placeholder": "​",
            "style": "IPY_MODEL_9f7e62e176bf4d1e8ed2c4e12f1fc7c7",
            "value": " 200k/? [00:00&lt;00:00, 4.92MB/s]"
          }
        },
        "c85344442f764f1bb304dd6dbf51b22d": {
          "model_module": "@jupyter-widgets/base",
          "model_name": "LayoutModel",
          "model_module_version": "1.2.0",
          "state": {
            "_model_module": "@jupyter-widgets/base",
            "_model_module_version": "1.2.0",
            "_model_name": "LayoutModel",
            "_view_count": null,
            "_view_module": "@jupyter-widgets/base",
            "_view_module_version": "1.2.0",
            "_view_name": "LayoutView",
            "align_content": null,
            "align_items": null,
            "align_self": null,
            "border": null,
            "bottom": null,
            "display": null,
            "flex": null,
            "flex_flow": null,
            "grid_area": null,
            "grid_auto_columns": null,
            "grid_auto_flow": null,
            "grid_auto_rows": null,
            "grid_column": null,
            "grid_gap": null,
            "grid_row": null,
            "grid_template_areas": null,
            "grid_template_columns": null,
            "grid_template_rows": null,
            "height": null,
            "justify_content": null,
            "justify_items": null,
            "left": null,
            "margin": null,
            "max_height": null,
            "max_width": null,
            "min_height": null,
            "min_width": null,
            "object_fit": null,
            "object_position": null,
            "order": null,
            "overflow": null,
            "overflow_x": null,
            "overflow_y": null,
            "padding": null,
            "right": null,
            "top": null,
            "visibility": null,
            "width": null
          }
        },
        "67bf09ad40ab40118e4d3dcb52fe5d8a": {
          "model_module": "@jupyter-widgets/base",
          "model_name": "LayoutModel",
          "model_module_version": "1.2.0",
          "state": {
            "_model_module": "@jupyter-widgets/base",
            "_model_module_version": "1.2.0",
            "_model_name": "LayoutModel",
            "_view_count": null,
            "_view_module": "@jupyter-widgets/base",
            "_view_module_version": "1.2.0",
            "_view_name": "LayoutView",
            "align_content": null,
            "align_items": null,
            "align_self": null,
            "border": null,
            "bottom": null,
            "display": null,
            "flex": null,
            "flex_flow": null,
            "grid_area": null,
            "grid_auto_columns": null,
            "grid_auto_flow": null,
            "grid_auto_rows": null,
            "grid_column": null,
            "grid_gap": null,
            "grid_row": null,
            "grid_template_areas": null,
            "grid_template_columns": null,
            "grid_template_rows": null,
            "height": null,
            "justify_content": null,
            "justify_items": null,
            "left": null,
            "margin": null,
            "max_height": null,
            "max_width": null,
            "min_height": null,
            "min_width": null,
            "object_fit": null,
            "object_position": null,
            "order": null,
            "overflow": null,
            "overflow_x": null,
            "overflow_y": null,
            "padding": null,
            "right": null,
            "top": null,
            "visibility": null,
            "width": null
          }
        },
        "4c11e2c633944a0d8f7d34b3df19ac3f": {
          "model_module": "@jupyter-widgets/controls",
          "model_name": "DescriptionStyleModel",
          "model_module_version": "1.5.0",
          "state": {
            "_model_module": "@jupyter-widgets/controls",
            "_model_module_version": "1.5.0",
            "_model_name": "DescriptionStyleModel",
            "_view_count": null,
            "_view_module": "@jupyter-widgets/base",
            "_view_module_version": "1.2.0",
            "_view_name": "StyleView",
            "description_width": ""
          }
        },
        "52bab1f3557441e6abc4b1c9240641de": {
          "model_module": "@jupyter-widgets/base",
          "model_name": "LayoutModel",
          "model_module_version": "1.2.0",
          "state": {
            "_model_module": "@jupyter-widgets/base",
            "_model_module_version": "1.2.0",
            "_model_name": "LayoutModel",
            "_view_count": null,
            "_view_module": "@jupyter-widgets/base",
            "_view_module_version": "1.2.0",
            "_view_name": "LayoutView",
            "align_content": null,
            "align_items": null,
            "align_self": null,
            "border": null,
            "bottom": null,
            "display": null,
            "flex": null,
            "flex_flow": null,
            "grid_area": null,
            "grid_auto_columns": null,
            "grid_auto_flow": null,
            "grid_auto_rows": null,
            "grid_column": null,
            "grid_gap": null,
            "grid_row": null,
            "grid_template_areas": null,
            "grid_template_columns": null,
            "grid_template_rows": null,
            "height": null,
            "justify_content": null,
            "justify_items": null,
            "left": null,
            "margin": null,
            "max_height": null,
            "max_width": null,
            "min_height": null,
            "min_width": null,
            "object_fit": null,
            "object_position": null,
            "order": null,
            "overflow": null,
            "overflow_x": null,
            "overflow_y": null,
            "padding": null,
            "right": null,
            "top": null,
            "visibility": null,
            "width": null
          }
        },
        "d9ad3716cee34c62aab67f520bf682fe": {
          "model_module": "@jupyter-widgets/controls",
          "model_name": "ProgressStyleModel",
          "model_module_version": "1.5.0",
          "state": {
            "_model_module": "@jupyter-widgets/controls",
            "_model_module_version": "1.5.0",
            "_model_name": "ProgressStyleModel",
            "_view_count": null,
            "_view_module": "@jupyter-widgets/base",
            "_view_module_version": "1.2.0",
            "_view_name": "StyleView",
            "bar_color": null,
            "description_width": ""
          }
        },
        "2adb9caa509f4094b2a6c80d13735f93": {
          "model_module": "@jupyter-widgets/base",
          "model_name": "LayoutModel",
          "model_module_version": "1.2.0",
          "state": {
            "_model_module": "@jupyter-widgets/base",
            "_model_module_version": "1.2.0",
            "_model_name": "LayoutModel",
            "_view_count": null,
            "_view_module": "@jupyter-widgets/base",
            "_view_module_version": "1.2.0",
            "_view_name": "LayoutView",
            "align_content": null,
            "align_items": null,
            "align_self": null,
            "border": null,
            "bottom": null,
            "display": null,
            "flex": null,
            "flex_flow": null,
            "grid_area": null,
            "grid_auto_columns": null,
            "grid_auto_flow": null,
            "grid_auto_rows": null,
            "grid_column": null,
            "grid_gap": null,
            "grid_row": null,
            "grid_template_areas": null,
            "grid_template_columns": null,
            "grid_template_rows": null,
            "height": null,
            "justify_content": null,
            "justify_items": null,
            "left": null,
            "margin": null,
            "max_height": null,
            "max_width": null,
            "min_height": null,
            "min_width": null,
            "object_fit": null,
            "object_position": null,
            "order": null,
            "overflow": null,
            "overflow_x": null,
            "overflow_y": null,
            "padding": null,
            "right": null,
            "top": null,
            "visibility": null,
            "width": null
          }
        },
        "9f7e62e176bf4d1e8ed2c4e12f1fc7c7": {
          "model_module": "@jupyter-widgets/controls",
          "model_name": "DescriptionStyleModel",
          "model_module_version": "1.5.0",
          "state": {
            "_model_module": "@jupyter-widgets/controls",
            "_model_module_version": "1.5.0",
            "_model_name": "DescriptionStyleModel",
            "_view_count": null,
            "_view_module": "@jupyter-widgets/base",
            "_view_module_version": "1.2.0",
            "_view_name": "StyleView",
            "description_width": ""
          }
        },
        "c5273950734a49d48821859d3f948cfb": {
          "model_module": "@jupyter-widgets/controls",
          "model_name": "HBoxModel",
          "model_module_version": "1.5.0",
          "state": {
            "_dom_classes": [],
            "_model_module": "@jupyter-widgets/controls",
            "_model_module_version": "1.5.0",
            "_model_name": "HBoxModel",
            "_view_count": null,
            "_view_module": "@jupyter-widgets/controls",
            "_view_module_version": "1.5.0",
            "_view_name": "HBoxView",
            "box_style": "",
            "children": [
              "IPY_MODEL_707ec2520fd845dda41a1933b37ec399",
              "IPY_MODEL_140ddd1925bd472e96afaacb993cf4d9",
              "IPY_MODEL_7b08ee9000334f599d9c16226a994ec0"
            ],
            "layout": "IPY_MODEL_cf4b6c39cb2545f4a45cfd399940745d"
          }
        },
        "707ec2520fd845dda41a1933b37ec399": {
          "model_module": "@jupyter-widgets/controls",
          "model_name": "HTMLModel",
          "model_module_version": "1.5.0",
          "state": {
            "_dom_classes": [],
            "_model_module": "@jupyter-widgets/controls",
            "_model_module_version": "1.5.0",
            "_model_name": "HTMLModel",
            "_view_count": null,
            "_view_module": "@jupyter-widgets/controls",
            "_view_module_version": "1.5.0",
            "_view_name": "HTMLView",
            "description": "",
            "description_tooltip": null,
            "layout": "IPY_MODEL_8ad0c57bbd5e41c58296d0458cfa5b1f",
            "placeholder": "​",
            "style": "IPY_MODEL_2063a0d4deff4007a35d41a6031e24ba",
            "value": "Downloading https://huggingface.co/stanfordnlp/stanza-tr/resolve/v1.5.0/models/tokenize/imst.pt: 100%"
          }
        },
        "140ddd1925bd472e96afaacb993cf4d9": {
          "model_module": "@jupyter-widgets/controls",
          "model_name": "FloatProgressModel",
          "model_module_version": "1.5.0",
          "state": {
            "_dom_classes": [],
            "_model_module": "@jupyter-widgets/controls",
            "_model_module_version": "1.5.0",
            "_model_name": "FloatProgressModel",
            "_view_count": null,
            "_view_module": "@jupyter-widgets/controls",
            "_view_module_version": "1.5.0",
            "_view_name": "ProgressView",
            "bar_style": "success",
            "description": "",
            "description_tooltip": null,
            "layout": "IPY_MODEL_101214c4bb4643b2a910259d5efa9d04",
            "max": 631093,
            "min": 0,
            "orientation": "horizontal",
            "style": "IPY_MODEL_70d6f99c15994910b5d5e017c472f2b6",
            "value": 631093
          }
        },
        "7b08ee9000334f599d9c16226a994ec0": {
          "model_module": "@jupyter-widgets/controls",
          "model_name": "HTMLModel",
          "model_module_version": "1.5.0",
          "state": {
            "_dom_classes": [],
            "_model_module": "@jupyter-widgets/controls",
            "_model_module_version": "1.5.0",
            "_model_name": "HTMLModel",
            "_view_count": null,
            "_view_module": "@jupyter-widgets/controls",
            "_view_module_version": "1.5.0",
            "_view_name": "HTMLView",
            "description": "",
            "description_tooltip": null,
            "layout": "IPY_MODEL_926bf85a6a5d4824a4c24289f73beb28",
            "placeholder": "​",
            "style": "IPY_MODEL_9470dfd772694c198b5cd7887fb6f561",
            "value": " 631k/631k [00:00&lt;00:00, 7.67MB/s]"
          }
        },
        "cf4b6c39cb2545f4a45cfd399940745d": {
          "model_module": "@jupyter-widgets/base",
          "model_name": "LayoutModel",
          "model_module_version": "1.2.0",
          "state": {
            "_model_module": "@jupyter-widgets/base",
            "_model_module_version": "1.2.0",
            "_model_name": "LayoutModel",
            "_view_count": null,
            "_view_module": "@jupyter-widgets/base",
            "_view_module_version": "1.2.0",
            "_view_name": "LayoutView",
            "align_content": null,
            "align_items": null,
            "align_self": null,
            "border": null,
            "bottom": null,
            "display": null,
            "flex": null,
            "flex_flow": null,
            "grid_area": null,
            "grid_auto_columns": null,
            "grid_auto_flow": null,
            "grid_auto_rows": null,
            "grid_column": null,
            "grid_gap": null,
            "grid_row": null,
            "grid_template_areas": null,
            "grid_template_columns": null,
            "grid_template_rows": null,
            "height": null,
            "justify_content": null,
            "justify_items": null,
            "left": null,
            "margin": null,
            "max_height": null,
            "max_width": null,
            "min_height": null,
            "min_width": null,
            "object_fit": null,
            "object_position": null,
            "order": null,
            "overflow": null,
            "overflow_x": null,
            "overflow_y": null,
            "padding": null,
            "right": null,
            "top": null,
            "visibility": null,
            "width": null
          }
        },
        "8ad0c57bbd5e41c58296d0458cfa5b1f": {
          "model_module": "@jupyter-widgets/base",
          "model_name": "LayoutModel",
          "model_module_version": "1.2.0",
          "state": {
            "_model_module": "@jupyter-widgets/base",
            "_model_module_version": "1.2.0",
            "_model_name": "LayoutModel",
            "_view_count": null,
            "_view_module": "@jupyter-widgets/base",
            "_view_module_version": "1.2.0",
            "_view_name": "LayoutView",
            "align_content": null,
            "align_items": null,
            "align_self": null,
            "border": null,
            "bottom": null,
            "display": null,
            "flex": null,
            "flex_flow": null,
            "grid_area": null,
            "grid_auto_columns": null,
            "grid_auto_flow": null,
            "grid_auto_rows": null,
            "grid_column": null,
            "grid_gap": null,
            "grid_row": null,
            "grid_template_areas": null,
            "grid_template_columns": null,
            "grid_template_rows": null,
            "height": null,
            "justify_content": null,
            "justify_items": null,
            "left": null,
            "margin": null,
            "max_height": null,
            "max_width": null,
            "min_height": null,
            "min_width": null,
            "object_fit": null,
            "object_position": null,
            "order": null,
            "overflow": null,
            "overflow_x": null,
            "overflow_y": null,
            "padding": null,
            "right": null,
            "top": null,
            "visibility": null,
            "width": null
          }
        },
        "2063a0d4deff4007a35d41a6031e24ba": {
          "model_module": "@jupyter-widgets/controls",
          "model_name": "DescriptionStyleModel",
          "model_module_version": "1.5.0",
          "state": {
            "_model_module": "@jupyter-widgets/controls",
            "_model_module_version": "1.5.0",
            "_model_name": "DescriptionStyleModel",
            "_view_count": null,
            "_view_module": "@jupyter-widgets/base",
            "_view_module_version": "1.2.0",
            "_view_name": "StyleView",
            "description_width": ""
          }
        },
        "101214c4bb4643b2a910259d5efa9d04": {
          "model_module": "@jupyter-widgets/base",
          "model_name": "LayoutModel",
          "model_module_version": "1.2.0",
          "state": {
            "_model_module": "@jupyter-widgets/base",
            "_model_module_version": "1.2.0",
            "_model_name": "LayoutModel",
            "_view_count": null,
            "_view_module": "@jupyter-widgets/base",
            "_view_module_version": "1.2.0",
            "_view_name": "LayoutView",
            "align_content": null,
            "align_items": null,
            "align_self": null,
            "border": null,
            "bottom": null,
            "display": null,
            "flex": null,
            "flex_flow": null,
            "grid_area": null,
            "grid_auto_columns": null,
            "grid_auto_flow": null,
            "grid_auto_rows": null,
            "grid_column": null,
            "grid_gap": null,
            "grid_row": null,
            "grid_template_areas": null,
            "grid_template_columns": null,
            "grid_template_rows": null,
            "height": null,
            "justify_content": null,
            "justify_items": null,
            "left": null,
            "margin": null,
            "max_height": null,
            "max_width": null,
            "min_height": null,
            "min_width": null,
            "object_fit": null,
            "object_position": null,
            "order": null,
            "overflow": null,
            "overflow_x": null,
            "overflow_y": null,
            "padding": null,
            "right": null,
            "top": null,
            "visibility": null,
            "width": null
          }
        },
        "70d6f99c15994910b5d5e017c472f2b6": {
          "model_module": "@jupyter-widgets/controls",
          "model_name": "ProgressStyleModel",
          "model_module_version": "1.5.0",
          "state": {
            "_model_module": "@jupyter-widgets/controls",
            "_model_module_version": "1.5.0",
            "_model_name": "ProgressStyleModel",
            "_view_count": null,
            "_view_module": "@jupyter-widgets/base",
            "_view_module_version": "1.2.0",
            "_view_name": "StyleView",
            "bar_color": null,
            "description_width": ""
          }
        },
        "926bf85a6a5d4824a4c24289f73beb28": {
          "model_module": "@jupyter-widgets/base",
          "model_name": "LayoutModel",
          "model_module_version": "1.2.0",
          "state": {
            "_model_module": "@jupyter-widgets/base",
            "_model_module_version": "1.2.0",
            "_model_name": "LayoutModel",
            "_view_count": null,
            "_view_module": "@jupyter-widgets/base",
            "_view_module_version": "1.2.0",
            "_view_name": "LayoutView",
            "align_content": null,
            "align_items": null,
            "align_self": null,
            "border": null,
            "bottom": null,
            "display": null,
            "flex": null,
            "flex_flow": null,
            "grid_area": null,
            "grid_auto_columns": null,
            "grid_auto_flow": null,
            "grid_auto_rows": null,
            "grid_column": null,
            "grid_gap": null,
            "grid_row": null,
            "grid_template_areas": null,
            "grid_template_columns": null,
            "grid_template_rows": null,
            "height": null,
            "justify_content": null,
            "justify_items": null,
            "left": null,
            "margin": null,
            "max_height": null,
            "max_width": null,
            "min_height": null,
            "min_width": null,
            "object_fit": null,
            "object_position": null,
            "order": null,
            "overflow": null,
            "overflow_x": null,
            "overflow_y": null,
            "padding": null,
            "right": null,
            "top": null,
            "visibility": null,
            "width": null
          }
        },
        "9470dfd772694c198b5cd7887fb6f561": {
          "model_module": "@jupyter-widgets/controls",
          "model_name": "DescriptionStyleModel",
          "model_module_version": "1.5.0",
          "state": {
            "_model_module": "@jupyter-widgets/controls",
            "_model_module_version": "1.5.0",
            "_model_name": "DescriptionStyleModel",
            "_view_count": null,
            "_view_module": "@jupyter-widgets/base",
            "_view_module_version": "1.2.0",
            "_view_name": "StyleView",
            "description_width": ""
          }
        },
        "fd749377b0c444ea83b10652d8ba6094": {
          "model_module": "@jupyter-widgets/controls",
          "model_name": "HBoxModel",
          "model_module_version": "1.5.0",
          "state": {
            "_dom_classes": [],
            "_model_module": "@jupyter-widgets/controls",
            "_model_module_version": "1.5.0",
            "_model_name": "HBoxModel",
            "_view_count": null,
            "_view_module": "@jupyter-widgets/controls",
            "_view_module_version": "1.5.0",
            "_view_name": "HBoxView",
            "box_style": "",
            "children": [
              "IPY_MODEL_cf52170a2e684996b44ae41c85d553ae",
              "IPY_MODEL_5f050501308f40acba963bb6c623ee77",
              "IPY_MODEL_cffc4234717f494489a27bbdb619ee1d"
            ],
            "layout": "IPY_MODEL_251fb35e5f254e8ca6f4f8fb71abb97b"
          }
        },
        "cf52170a2e684996b44ae41c85d553ae": {
          "model_module": "@jupyter-widgets/controls",
          "model_name": "HTMLModel",
          "model_module_version": "1.5.0",
          "state": {
            "_dom_classes": [],
            "_model_module": "@jupyter-widgets/controls",
            "_model_module_version": "1.5.0",
            "_model_name": "HTMLModel",
            "_view_count": null,
            "_view_module": "@jupyter-widgets/controls",
            "_view_module_version": "1.5.0",
            "_view_name": "HTMLView",
            "description": "",
            "description_tooltip": null,
            "layout": "IPY_MODEL_db31fda6aa924688a315acad18bffaad",
            "placeholder": "​",
            "style": "IPY_MODEL_d79558825ead4619b5ac2752188ff2d6",
            "value": "Downloading https://huggingface.co/stanfordnlp/stanza-tr/resolve/v1.5.0/models/lemma/imst.pt: 100%"
          }
        },
        "5f050501308f40acba963bb6c623ee77": {
          "model_module": "@jupyter-widgets/controls",
          "model_name": "FloatProgressModel",
          "model_module_version": "1.5.0",
          "state": {
            "_dom_classes": [],
            "_model_module": "@jupyter-widgets/controls",
            "_model_module_version": "1.5.0",
            "_model_name": "FloatProgressModel",
            "_view_count": null,
            "_view_module": "@jupyter-widgets/controls",
            "_view_module_version": "1.5.0",
            "_view_name": "ProgressView",
            "bar_style": "success",
            "description": "",
            "description_tooltip": null,
            "layout": "IPY_MODEL_5cac104384084f5bb0c5698e013f548c",
            "max": 2862491,
            "min": 0,
            "orientation": "horizontal",
            "style": "IPY_MODEL_ecb4d68d11854e37a60b50d8d84e6ff7",
            "value": 2862491
          }
        },
        "cffc4234717f494489a27bbdb619ee1d": {
          "model_module": "@jupyter-widgets/controls",
          "model_name": "HTMLModel",
          "model_module_version": "1.5.0",
          "state": {
            "_dom_classes": [],
            "_model_module": "@jupyter-widgets/controls",
            "_model_module_version": "1.5.0",
            "_model_name": "HTMLModel",
            "_view_count": null,
            "_view_module": "@jupyter-widgets/controls",
            "_view_module_version": "1.5.0",
            "_view_name": "HTMLView",
            "description": "",
            "description_tooltip": null,
            "layout": "IPY_MODEL_3cd8e09527a14f88b310d583d3a38620",
            "placeholder": "​",
            "style": "IPY_MODEL_ff31e426859b4a1d9207d3147d07611a",
            "value": " 2.86M/2.86M [00:00&lt;00:00, 28.2MB/s]"
          }
        },
        "251fb35e5f254e8ca6f4f8fb71abb97b": {
          "model_module": "@jupyter-widgets/base",
          "model_name": "LayoutModel",
          "model_module_version": "1.2.0",
          "state": {
            "_model_module": "@jupyter-widgets/base",
            "_model_module_version": "1.2.0",
            "_model_name": "LayoutModel",
            "_view_count": null,
            "_view_module": "@jupyter-widgets/base",
            "_view_module_version": "1.2.0",
            "_view_name": "LayoutView",
            "align_content": null,
            "align_items": null,
            "align_self": null,
            "border": null,
            "bottom": null,
            "display": null,
            "flex": null,
            "flex_flow": null,
            "grid_area": null,
            "grid_auto_columns": null,
            "grid_auto_flow": null,
            "grid_auto_rows": null,
            "grid_column": null,
            "grid_gap": null,
            "grid_row": null,
            "grid_template_areas": null,
            "grid_template_columns": null,
            "grid_template_rows": null,
            "height": null,
            "justify_content": null,
            "justify_items": null,
            "left": null,
            "margin": null,
            "max_height": null,
            "max_width": null,
            "min_height": null,
            "min_width": null,
            "object_fit": null,
            "object_position": null,
            "order": null,
            "overflow": null,
            "overflow_x": null,
            "overflow_y": null,
            "padding": null,
            "right": null,
            "top": null,
            "visibility": null,
            "width": null
          }
        },
        "db31fda6aa924688a315acad18bffaad": {
          "model_module": "@jupyter-widgets/base",
          "model_name": "LayoutModel",
          "model_module_version": "1.2.0",
          "state": {
            "_model_module": "@jupyter-widgets/base",
            "_model_module_version": "1.2.0",
            "_model_name": "LayoutModel",
            "_view_count": null,
            "_view_module": "@jupyter-widgets/base",
            "_view_module_version": "1.2.0",
            "_view_name": "LayoutView",
            "align_content": null,
            "align_items": null,
            "align_self": null,
            "border": null,
            "bottom": null,
            "display": null,
            "flex": null,
            "flex_flow": null,
            "grid_area": null,
            "grid_auto_columns": null,
            "grid_auto_flow": null,
            "grid_auto_rows": null,
            "grid_column": null,
            "grid_gap": null,
            "grid_row": null,
            "grid_template_areas": null,
            "grid_template_columns": null,
            "grid_template_rows": null,
            "height": null,
            "justify_content": null,
            "justify_items": null,
            "left": null,
            "margin": null,
            "max_height": null,
            "max_width": null,
            "min_height": null,
            "min_width": null,
            "object_fit": null,
            "object_position": null,
            "order": null,
            "overflow": null,
            "overflow_x": null,
            "overflow_y": null,
            "padding": null,
            "right": null,
            "top": null,
            "visibility": null,
            "width": null
          }
        },
        "d79558825ead4619b5ac2752188ff2d6": {
          "model_module": "@jupyter-widgets/controls",
          "model_name": "DescriptionStyleModel",
          "model_module_version": "1.5.0",
          "state": {
            "_model_module": "@jupyter-widgets/controls",
            "_model_module_version": "1.5.0",
            "_model_name": "DescriptionStyleModel",
            "_view_count": null,
            "_view_module": "@jupyter-widgets/base",
            "_view_module_version": "1.2.0",
            "_view_name": "StyleView",
            "description_width": ""
          }
        },
        "5cac104384084f5bb0c5698e013f548c": {
          "model_module": "@jupyter-widgets/base",
          "model_name": "LayoutModel",
          "model_module_version": "1.2.0",
          "state": {
            "_model_module": "@jupyter-widgets/base",
            "_model_module_version": "1.2.0",
            "_model_name": "LayoutModel",
            "_view_count": null,
            "_view_module": "@jupyter-widgets/base",
            "_view_module_version": "1.2.0",
            "_view_name": "LayoutView",
            "align_content": null,
            "align_items": null,
            "align_self": null,
            "border": null,
            "bottom": null,
            "display": null,
            "flex": null,
            "flex_flow": null,
            "grid_area": null,
            "grid_auto_columns": null,
            "grid_auto_flow": null,
            "grid_auto_rows": null,
            "grid_column": null,
            "grid_gap": null,
            "grid_row": null,
            "grid_template_areas": null,
            "grid_template_columns": null,
            "grid_template_rows": null,
            "height": null,
            "justify_content": null,
            "justify_items": null,
            "left": null,
            "margin": null,
            "max_height": null,
            "max_width": null,
            "min_height": null,
            "min_width": null,
            "object_fit": null,
            "object_position": null,
            "order": null,
            "overflow": null,
            "overflow_x": null,
            "overflow_y": null,
            "padding": null,
            "right": null,
            "top": null,
            "visibility": null,
            "width": null
          }
        },
        "ecb4d68d11854e37a60b50d8d84e6ff7": {
          "model_module": "@jupyter-widgets/controls",
          "model_name": "ProgressStyleModel",
          "model_module_version": "1.5.0",
          "state": {
            "_model_module": "@jupyter-widgets/controls",
            "_model_module_version": "1.5.0",
            "_model_name": "ProgressStyleModel",
            "_view_count": null,
            "_view_module": "@jupyter-widgets/base",
            "_view_module_version": "1.2.0",
            "_view_name": "StyleView",
            "bar_color": null,
            "description_width": ""
          }
        },
        "3cd8e09527a14f88b310d583d3a38620": {
          "model_module": "@jupyter-widgets/base",
          "model_name": "LayoutModel",
          "model_module_version": "1.2.0",
          "state": {
            "_model_module": "@jupyter-widgets/base",
            "_model_module_version": "1.2.0",
            "_model_name": "LayoutModel",
            "_view_count": null,
            "_view_module": "@jupyter-widgets/base",
            "_view_module_version": "1.2.0",
            "_view_name": "LayoutView",
            "align_content": null,
            "align_items": null,
            "align_self": null,
            "border": null,
            "bottom": null,
            "display": null,
            "flex": null,
            "flex_flow": null,
            "grid_area": null,
            "grid_auto_columns": null,
            "grid_auto_flow": null,
            "grid_auto_rows": null,
            "grid_column": null,
            "grid_gap": null,
            "grid_row": null,
            "grid_template_areas": null,
            "grid_template_columns": null,
            "grid_template_rows": null,
            "height": null,
            "justify_content": null,
            "justify_items": null,
            "left": null,
            "margin": null,
            "max_height": null,
            "max_width": null,
            "min_height": null,
            "min_width": null,
            "object_fit": null,
            "object_position": null,
            "order": null,
            "overflow": null,
            "overflow_x": null,
            "overflow_y": null,
            "padding": null,
            "right": null,
            "top": null,
            "visibility": null,
            "width": null
          }
        },
        "ff31e426859b4a1d9207d3147d07611a": {
          "model_module": "@jupyter-widgets/controls",
          "model_name": "DescriptionStyleModel",
          "model_module_version": "1.5.0",
          "state": {
            "_model_module": "@jupyter-widgets/controls",
            "_model_module_version": "1.5.0",
            "_model_name": "DescriptionStyleModel",
            "_view_count": null,
            "_view_module": "@jupyter-widgets/base",
            "_view_module_version": "1.2.0",
            "_view_name": "StyleView",
            "description_width": ""
          }
        }
      }
    }
  },
  "nbformat": 4,
  "nbformat_minor": 5
}